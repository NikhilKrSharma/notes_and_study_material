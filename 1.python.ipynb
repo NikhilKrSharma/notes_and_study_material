{
 "cells": [
  {
   "cell_type": "code",
   "execution_count": 2,
   "metadata": {},
   "outputs": [],
   "source": [
    "import sys\n",
    "import keyword\n",
    "import operator\n",
    "from datetime import datetime\n",
    "import os"
   ]
  },
  {
   "cell_type": "code",
   "execution_count": 3,
   "metadata": {},
   "outputs": [
    {
     "data": {
      "text/plain": [
       "['_', 'case', 'match']"
      ]
     },
     "execution_count": 3,
     "metadata": {},
     "output_type": "execute_result"
    }
   ],
   "source": [
    "keyword.softkwlist"
   ]
  },
  {
   "cell_type": "code",
   "execution_count": 12,
   "metadata": {},
   "outputs": [
    {
     "name": "stdout",
     "output_type": "stream",
     "text": [
      "False\t\t\tNone\t\t\tTrue\t\t\tand\n",
      "as\t\t\tassert\t\t\tasync\t\t\tawait\n",
      "break\t\t\tclass\t\t\tcontinue\t\t\tdef\n",
      "del\t\t\telif\t\t\telse\t\t\texcept\n",
      "finally\t\t\tfor\t\t\tfrom\t\t\tglobal\n",
      "if\t\t\timport\t\t\tin\t\t\tis\n",
      "lambda\t\t\tnonlocal\t\t\tnot\t\t\tor\n",
      "pass\t\t\traise\t\t\treturn\t\t\ttry\n",
      "while\t\t\twith\t\t\tyield\n"
     ]
    }
   ],
   "source": [
    "for x in range(0, len(keyword.kwlist), 4):\n",
    "    print('\\t\\t\\t'.join(keyword.kwlist[x:x+4]))"
   ]
  },
  {
   "cell_type": "code",
   "execution_count": 14,
   "metadata": {},
   "outputs": [
    {
     "data": {
      "text/plain": [
       "(4565020024, '0x11018ad78', 4565020344, '0x11018aeb8')"
      ]
     },
     "execution_count": 14,
     "metadata": {},
     "output_type": "execute_result"
    }
   ],
   "source": [
    "a = 10\n",
    "b = 20\n",
    "\n",
    "id(a), hex(id(a)), id(b), hex(id(b))"
   ]
  },
  {
   "cell_type": "code",
   "execution_count": 15,
   "metadata": {},
   "outputs": [
    {
     "data": {
      "text/plain": [
       "(4707556848, 4707556848)"
      ]
     },
     "execution_count": 15,
     "metadata": {},
     "output_type": "execute_result"
    }
   ],
   "source": [
    "a = 565\n",
    "b = a\n",
    "\n",
    "id(a), id(b)"
   ]
  },
  {
   "cell_type": "code",
   "execution_count": 16,
   "metadata": {},
   "outputs": [
    {
     "data": {
      "text/plain": [
       "(565, 6, 4707649360, 4565019896)"
      ]
     },
     "execution_count": 16,
     "metadata": {},
     "output_type": "execute_result"
    }
   ],
   "source": [
    "a = 565\n",
    "b = a\n",
    "b = 6\n",
    "\n",
    "a, b, id(a), id(b)"
   ]
  },
  {
   "cell_type": "code",
   "execution_count": 17,
   "metadata": {},
   "outputs": [
    {
     "data": {
      "text/plain": [
       "(6, 565, 4565019896, 4707467216)"
      ]
     },
     "execution_count": 17,
     "metadata": {},
     "output_type": "execute_result"
    }
   ],
   "source": [
    "a = 565\n",
    "b = a\n",
    "a = 6\n",
    "\n",
    "a, b, id(a), id(b)"
   ]
  },
  {
   "cell_type": "code",
   "execution_count": 27,
   "metadata": {},
   "outputs": [
    {
     "name": "stdout",
     "output_type": "stream",
     "text": [
      "28 24 32 50 28 16\n",
      "28 24 32 49 424\n"
     ]
    }
   ],
   "source": [
    "print(sys.getsizeof(1), sys.getsizeof(10.1), sys.getsizeof(19+10j), sys.getsizeof('N'), sys.getsizeof(True), sys.getsizeof(None))\n",
    "print(sys.getsizeof(int()), sys.getsizeof(float()), sys.getsizeof(complex()), sys.getsizeof(str()), sys.getsizeof(bool))"
   ]
  },
  {
   "cell_type": "markdown",
   "metadata": {},
   "source": [
    "- The size of an integer in Python depends on the specific implementation of the Python interpreter and the platform it is running on, but on most systems, the size of an **integer is 28 bytes**, while the size of a **floating-point number is 24 bytes**.\n",
    "\n",
    "- This difference in size of **int and float** is due to the fact that integers in Python are implemented as **arbitrary-precision integers**, also known as **\"big integers\"**. This means that the size of an integer in Python is not fixed and can grow dynamically as the integer grows larger. This allows Python to represent integers of any size, but it also means that the size of an integer in Python can be larger than the size of a floating-point number.\n",
    "\n",
    "- The second line output is the size in bytes of an empty integer object, an empty floating-point object, and an empty complex object, respectively. The reason for this difference is that in the second line of your output, the sys.getsizeof(int()), sys.getsizeof(float()), and sys.getsizeof(complex()) calls return a tuple of sizes, rather than a single size. The first element of the tuple is the size of the object itself, and the remaining elements are the sizes of the object's **internal components, such as the reference count and the type pointer**.\n",
    "\n",
    "- It's worth noting that the actual size of a bool object is only 1 bit, but the size reported by sys.getsizeof() includes the size of the object's header, which is necessary for the Python interpreter to manage the object."
   ]
  },
  {
   "cell_type": "code",
   "execution_count": 20,
   "metadata": {},
   "outputs": [
    {
     "name": "stdout",
     "output_type": "stream",
     "text": [
      "100  is integer? True\n",
      "100.5  is float? True\n",
      "(10+6j)  is complex? True\n",
      "Nikhil  is string? True\n",
      "True  is boolean? True\n"
     ]
    }
   ],
   "source": [
    "val1, val2, val3, val4, val5 = 100, 100.5, 10+6j, 'Nikhil', True\n",
    "print(val1, \" is integer?\", isinstance(val1, int))\n",
    "print(val2, \" is float?\", isinstance(val2, float))\n",
    "print(val3, \" is complex?\", isinstance(val3, complex))\n",
    "print(val4, \" is string?\", isinstance(val4, str))\n",
    "print(val5, \" is boolean?\", isinstance(val5, bool))"
   ]
  },
  {
   "cell_type": "markdown",
   "metadata": {},
   "source": []
  },
  {
   "cell_type": "code",
   "execution_count": 28,
   "metadata": {},
   "outputs": [
    {
     "name": "stdout",
     "output_type": "stream",
     "text": [
      "('Natural language processing with Python ', 'and', ' R and Java')\n"
     ]
    }
   ],
   "source": [
    "\"\"\"\n",
    "The partition() method searches for a specified string and splits the string into a tuple containing three elements.\n",
    "- The first element contains the part before the argument string.\n",
    "- The second element contains the argument string.\n",
    "- The third element contains the part after the argument string.\n",
    "\"\"\"\n",
    "str5 = \"Natural language processing with Python and R and Java\"\n",
    "L = str5.partition(\"and\")\n",
    "print(L)"
   ]
  },
  {
   "cell_type": "code",
   "execution_count": 29,
   "metadata": {},
   "outputs": [
    {
     "name": "stdout",
     "output_type": "stream",
     "text": [
      "('Natural language processing with Python and R ', 'and', ' Java')\n"
     ]
    }
   ],
   "source": [
    "\"\"\"\n",
    "The rpartition() method searches for the last occurence of the specified string and splits the string into a tuple\n",
    "containing three elements.\n",
    "- The first element contains the part before the argument string.\n",
    "- The second element contains the argument string.\n",
    "- The third element contains the part after the argument string.\n",
    "\"\"\"\n",
    "str5 = \"Natural language processing with Python and R and Java\"\n",
    "L = str5.rpartition(\"and\")\n",
    "print(L)"
   ]
  },
  {
   "cell_type": "markdown",
   "metadata": {},
   "source": [
    "### All / Any\n",
    "\n",
    "The all() method returns:\n",
    "\n",
    "- True - If all elements in a list are true\n",
    "- False - If any element in a list is false\n",
    "\n",
    "The any() function returns True if any element in the list is True. If not, any() returns False."
   ]
  },
  {
   "cell_type": "code",
   "execution_count": 39,
   "metadata": {},
   "outputs": [
    {
     "data": {
      "text/plain": [
       "(False, True)"
      ]
     },
     "execution_count": 39,
     "metadata": {},
     "output_type": "execute_result"
    }
   ],
   "source": [
    "L1 = [1,2,3,4,0]\n",
    "all(L1), any(L1)"
   ]
  },
  {
   "cell_type": "code",
   "execution_count": 40,
   "metadata": {},
   "outputs": [
    {
     "data": {
      "text/plain": [
       "(True, True)"
      ]
     },
     "execution_count": 40,
     "metadata": {},
     "output_type": "execute_result"
    }
   ],
   "source": [
    "L1 = [1,2,3,4,10]\n",
    "all(L1), any(L1)"
   ]
  },
  {
   "cell_type": "markdown",
   "metadata": {},
   "source": [
    "### Set Operations\n",
    "\n",
    "```A = {1,2,3,4,5}\n",
    "B = {4,5,6,7,8}\n",
    "C = {8,9,10}\n",
    "\n",
    "A | B # Union of A and B (All elements from both sets. NO DUPLICATES)\n",
    "A.union(B) # Union of A and B\n",
    "A.union(B, C) # Union of A, B and C.\n",
    "\n",
    "A = {1,2,3,4,5}\n",
    "B = {4,5,6,7,8}\n",
    "A & B # Intersection of A and B (Common items in both sets)\n",
    "A.intersection(B) # Intersection of A and B\n",
    "\n",
    "A = {1,2,3,4,5}\n",
    "B = {4,5,6,7,8}\n",
    "A - B # set of elements that are only in A but not in B\n",
    "A.difference(B) # Difference of sets\n",
    "\n",
    "A = {1,2,3,4,5}\n",
    "B = {4,5,6,7,8}\n",
    "A ^ B # Symmetric difference (Set of elements in A and B but not in both. \"EXCLUDING THE INTERSECTION\").\n",
    "A.symmetric_difference(B) # Symmetric difference of sets\n",
    "\n",
    "A = {1,2,3,4,5,6,7,8,9}\n",
    "B = {3,4,5,6,7,8}\n",
    "C = {10,20,30,40}\n",
    "B.issubset(A) # Set B is said to be the subset of set A if all elements of B are in A.\n",
    "A.issuperset(B) # Set A is said to be the superset of set B if all elements of B are in A.\n",
    "C.isdisjoint(A) # Two sets are said to be disjoint sets if they have no common elements.\n",
    "B.isdisjoint(A) # Two sets are said to be disjoint sets if they have no common elements.\n",
    "```\n"
   ]
  },
  {
   "cell_type": "markdown",
   "metadata": {},
   "source": [
    "### Bitwise Operation\n",
    "\n",
    "- Then bitwise operation  is a powerful tool in computer science that allows us  to manipulate binary numbers at the level of individual bits.\n",
    "- The comparision while doing any opearion is done on the bit by bit level\n",
    "- Like bitwise AND operation compares the corresponding bits of two integers and returns 1 if both bits are 1, and 0 otherwise. For example, the bitwise AND operation of the integers 18 and 6 is 00010, because the corresponding bits of 18 and 6 are 10010 and 00110, respectively, and the corresponding bits of 10010 and 00110 are 00010, which is the binary representation of the integer 2"
   ]
  },
  {
   "cell_type": "code",
   "execution_count": 45,
   "metadata": {},
   "outputs": [
    {
     "name": "stdout",
     "output_type": "stream",
     "text": [
      "Bitwise AND operation         - 2\n",
      "Bitwise OR operation          - 22\n",
      "Bitwise XOR operation         - 20\n",
      "Bitwise NOT operation         - -19\n",
      "Bitwise right shift operation - 4\n",
      "Bitwise left shift operation  - 72\n"
     ]
    }
   ],
   "source": [
    "x = 18  # binary form 10010\n",
    "y = 6   # binary form 00110\n",
    "\n",
    "print('Bitwise AND operation         - {}'.format(x&y))\n",
    "print('Bitwise OR operation          - {}'.format(x|y))\n",
    "print('Bitwise XOR operation         - {}'.format(x^y))\n",
    "print('Bitwise NOT operation         - {}'.format(~x))\n",
    "print('Bitwise right shift operation - {}'.format(x>>2))\n",
    "print('Bitwise left shift operation  - {}'.format(x<<2))"
   ]
  },
  {
   "cell_type": "markdown",
   "metadata": {},
   "source": [
    "### Parameter VS Argument\n",
    "- A parameter is the variable listed inside the parentheses in the function definition.\n",
    "- An argument is the value that is sent to the function when it is called.\n",
    "\n",
    "**Positional & Keyword Argument/Parameters**"
   ]
  },
  {
   "cell_type": "markdown",
   "metadata": {},
   "source": [
    "### *args and **kwargs\n",
    "\n",
    "> *args\n",
    ">> - When we are not sure about the number of arguments being passed to a function then we can use *args as function parameter.\n",
    ">> - *args allow us to pass the variable number of Non Keyword Arguments to function.\n",
    ">> - We can simply use an asterisk * before the parameter name to pass variable length arguments.\n",
    ">> - The arguments are always passed as a tuple.\n",
    ">> - We can rename it to anything as long as it is preceded by a single asterisk (*). It's best practice to keep naming it args to make it immediately recognizable.\n",
    "\n",
    ">**kwargs\n",
    ">> - **kwargs allows us to pass the variable number of Keyword Arguments to the function.\n",
    ">> - We can simply use an double asterisk ** before the parameter name to pass variable length arguments.\n",
    ">> - The arguments are passed as a dictionary.\n",
    ">> - We can rename it to anything as long as it is preceded by a double asterisk (**). It's best practice to keep naming it kwargs to make it immediately recognizable.\n",
    "\n",
    "- ***args MUST come before **kwargs in the argument list**"
   ]
  },
  {
   "cell_type": "markdown",
   "metadata": {},
   "source": [
    "### Lambda, Filter, Map and Reduce\n",
    "#### Lambda\n",
    "- A lambda function is an anonymous function (function without a name).\n",
    "- Lambda functions can have any number of arguments but only one expression. The expression is evaluated and returned.\n",
    "- We use lambda functions when we require a nameless function for a short period of time.\n",
    "\n",
    "#### Filter\n",
    "- It is used to filter the iterables/sequence as per the conditions.\n",
    "- Filter function filters the original iterable and passes the items that returns True for the function provided to filter.\n",
    "- It is normally used with Lambda functions to filter list, tuple, or sets.\n",
    "- filter() method takes two parameters:\n",
    "    - function - function tests if elements of an iterable returns true or false\n",
    "    - iterable - Sequence which needs to be filtered, could be sets, lists, tuples, or any iterators\n",
    "\n",
    "#### Map\n",
    "- The map() function applies a given function to each item of an iterable (list, tuple etc.) and returns a list of the results.\n",
    "- map() function takes two Parameters :\n",
    "    - function : The function to execute for each item of given iterable.\n",
    "    - iterable : It is a iterable which is to be mapped.\n",
    "- Returns : Returns a list of the results after applying the given function to each item of a given iterable (list, tuple etc.)\n",
    "\n",
    "#### Reduce\n",
    "- The reduce() function is defined in the functools python module.The reduce() function receives two arguments, a function and an iterable.\n",
    "- However, it doesn't return another iterable, instead it returns a single value.\n",
    "- Working:\n",
    "    1. Apply a function to the first two items in an iterable and generate a partial result.\n",
    "    2. The function is then called again with the result obtained in step 1 and the next value in the sequence. This process keeps on repeating until there are items in the sequence.\n",
    "    3. The final returned result is returned and printed on console."
   ]
  },
  {
   "cell_type": "code",
   "execution_count": 49,
   "metadata": {},
   "outputs": [
    {
     "name": "stdout",
     "output_type": "stream",
     "text": [
      "15\n",
      "30\n",
      "30 100 280\n",
      "60 150\n",
      "6000 12000000\n"
     ]
    }
   ],
   "source": [
    "addition = lambda a : a + 10 # This lambda function adds value 10 to an argument.\n",
    "print(addition(5))\n",
    "\n",
    "product = lambda a, b : a * b #This lambda function takes two arguments (a,b) and returns their product (a*b).\n",
    "print(product(5, 6))\n",
    "\n",
    "res = (lambda *args: sum(args)) # This lambda function can take any number of arguments and return thier sum.\n",
    "print(res(10,20) , res(10,20,30,40) , res(10,20,30,40,50,60,70))\n",
    "\n",
    "res1 = (lambda **kwargs: sum(kwargs.values())) # This lambda function can take any number of arguments and return thier sum\n",
    "print(res1(a = 10 , b= 20 , c = 30) , res1(a = 10 , b= 20 , c = 30, d = 40 , e = 50))\n",
    "\n",
    "# User defined function to find product of numbers\n",
    "def product(nums):\n",
    "    total = 1\n",
    "    for i in nums:\n",
    "        total *= i\n",
    "    return total\n",
    "# This lambda function can take any number of arguments and return thier product.\n",
    "res1 = (lambda **kwargs: product(kwargs.values()))\n",
    "print(res1(a = 10 , b= 20 , c = 30) , res1(a = 10 , b= 20 , c = 30, d = 40 , e = 50))"
   ]
  },
  {
   "cell_type": "code",
   "execution_count": 50,
   "metadata": {},
   "outputs": [
    {
     "name": "stdout",
     "output_type": "stream",
     "text": [
      "[1, 3, 5, 7, 9]\n",
      "[1, 3, 5, 7, 9]\n"
     ]
    }
   ],
   "source": [
    "list1 = [1,2,3,4,5,6,7,8,9]\n",
    "def odd(n):\n",
    "    if n%2 ==1: return True\n",
    "    else: return False\n",
    "odd_num = list(filter(odd,list1)) # This Filter function filters list1 and passes all odd numbers to filter().\n",
    "print(odd_num)\n",
    "\n",
    "list1 = [1,2,3,4,5,6,7,8,9]\n",
    "# The below Filter function filters \"list1\" and passes all odd numbers using lambda function to filter().\n",
    "odd_num = list(filter(lambda n: n%2 ==1 ,list1))\n",
    "print(odd_num)"
   ]
  },
  {
   "cell_type": "code",
   "execution_count": 51,
   "metadata": {},
   "outputs": [
    {
     "name": "stdout",
     "output_type": "stream",
     "text": [
      "[2, 6, 10, 14, 18]\n"
     ]
    },
    {
     "data": {
      "text/plain": [
       "[2, 6, 10, 14, 18]"
      ]
     },
     "execution_count": 51,
     "metadata": {},
     "output_type": "execute_result"
    }
   ],
   "source": [
    "def twice(n):\n",
    "    return n*2\n",
    "doubles = list(map(twice,odd_num)) # The map function will apply user defined \"twice()\" function on all items of the list\n",
    "print(doubles)\n",
    "\n",
    "doubles = list(map(lambda n:n*2,odd_num)) # This map function will double all items of the list using lambda function.\n",
    "doubles"
   ]
  },
  {
   "cell_type": "code",
   "execution_count": 52,
   "metadata": {},
   "outputs": [
    {
     "name": "stdout",
     "output_type": "stream",
     "text": [
      "50\n"
     ]
    },
    {
     "data": {
      "text/plain": [
       "50"
      ]
     },
     "execution_count": 52,
     "metadata": {},
     "output_type": "execute_result"
    }
   ],
   "source": [
    "from functools import reduce\n",
    "\n",
    "def add(a,b):\n",
    "    return a+b\n",
    "sum_all = reduce(add,doubles) # This reduce function will perform sum of all items in the list using user defined \"add()\n",
    "print(sum_all)\n",
    "\n",
    "#The below reduce() function will perform sum of all items in the list using lambda function.\n",
    "sum_all = reduce(lambda a,b : a+b,doubles)\n",
    "sum_all"
   ]
  },
  {
   "cell_type": "code",
   "execution_count": 53,
   "metadata": {},
   "outputs": [
    {
     "data": {
      "text/plain": [
       "50"
      ]
     },
     "execution_count": 53,
     "metadata": {},
     "output_type": "execute_result"
    }
   ],
   "source": [
    "# Putting all together\n",
    "sum_all = reduce(lambda a,b : a+b,list(map(lambda n:n*2, list(filter(lambda n: n%2 ==1 ,list1)))))\n",
    "sum_all"
   ]
  },
  {
   "cell_type": "code",
   "execution_count": 56,
   "metadata": {},
   "outputs": [
    {
     "name": "stdout",
     "output_type": "stream",
     "text": [
      "[2, 4, 6, 8, 10]\n",
      "[1, 3, 5, 7, 9]\n"
     ]
    }
   ],
   "source": [
    "list1 = [1,2,3,4,5,6,7,8,9,10]\n",
    "even = list(filter(lambda n: n%2 ==0 ,list1)) # Filter even numbers from the list\n",
    "odd = list(filter(lambda n: n%2 !=0 ,list1)) # Filter odd numbers from the list\n",
    "print(even)\n",
    "print(odd)"
   ]
  },
  {
   "cell_type": "code",
   "execution_count": 57,
   "metadata": {},
   "outputs": [
    {
     "name": "stdout",
     "output_type": "stream",
     "text": [
      "['TWO', 'FOUR']\n",
      "['one', 'three']\n"
     ]
    }
   ],
   "source": [
    "list2 = ['one' , 'TWO' , 'three' , 'FOUR']\n",
    "upper = list(filter(lambda x: x.isupper() , list2)) # filter uppercase strings from the list\n",
    "lower = list(filter(lambda x: x.islower() , list2)) # filter lowercase strings from the list\n",
    "print(upper)\n",
    "print(lower)"
   ]
  },
  {
   "cell_type": "code",
   "execution_count": 58,
   "metadata": {},
   "outputs": [
    {
     "name": "stdout",
     "output_type": "stream",
     "text": [
      "['one']\n",
      "['88', '99', '102']\n",
      "['one', 'two2', 'three3', '88', '99', '102']\n"
     ]
    }
   ],
   "source": [
    "list3 = ['one' , 'two2' , 'three3' ,'88' , '99' , '102']\n",
    "numeric = list(filter(lambda x:x.isnumeric(), list3)) # filter numbers from the list\n",
    "alpha = list(filter(lambda x:x.isalpha(), list3)) # filter character strings from the list\n",
    "alphanum = list(filter(lambda x:x.isalnum(), list3)) # filtr numbers & character strings from the list\n",
    "print(alpha)\n",
    "print(numeric)\n",
    "print(alphanum)"
   ]
  },
  {
   "cell_type": "code",
   "execution_count": 60,
   "metadata": {},
   "outputs": [
    {
     "data": {
      "text/plain": [
       "(5, 8)"
      ]
     },
     "execution_count": 60,
     "metadata": {},
     "output_type": "execute_result"
    }
   ],
   "source": [
    "def min_func(a, b):\n",
    "    return a if a < b else b\n",
    "def max_func(a, b):\n",
    "    return a if a > b else b\n",
    "\n",
    "list1 = [1,2,3,4]\n",
    "list2 = [5,6,7,8]\n",
    "\n",
    "min_num = reduce(min_func, list2) # Minimum number in the list using reduce () & User defined min function\n",
    "max_num = reduce(max_func, list2) # Maximum number in the list using reduce () & User defined min function\n",
    "min_num , max_num"
   ]
  },
  {
   "cell_type": "markdown",
   "metadata": {},
   "source": [
    "### Classes and Objects\n",
    "\n",
    "- A Class is an object constructor or a \"blueprint\" for creating objects.\n",
    "- Objects are nothing but an encapsulation of variables and functions into a single entity.\n",
    "- Objects get their variables and functions from classes.\n",
    "- To create a class we use the keyword class.\n",
    "- The first string inside the class is called docstring which gives the brief description about the class.\n",
    "- All classes have a function called which is always executed when the class is being initiated.\n",
    "- We can use function to assign values to object properties or other operations that are necessary to perform when the object is being created\n",
    "- The self parameter is a reference to the current instance of the class and is used to access class variables.\n",
    "self must be the first parameter of any function in the class\n",
    "- The super() builtin function returns a temporary object of the superclass that allows us to access methods of the base class.\n",
    "- super() allows us to avoid using the base class name explicitly and to enable multiple inheritance."
   ]
  },
  {
   "cell_type": "code",
   "execution_count": 61,
   "metadata": {},
   "outputs": [
    {
     "name": "stdout",
     "output_type": "stream",
     "text": [
      "Name :-  Asif\n",
      "Employee ID :-  34163\n",
      "Thanks for joining ABC Company Asif!!\n"
     ]
    }
   ],
   "source": [
    "# Create an employee class\n",
    "class Employee:\n",
    "    def __init__(self, name, empid): # __init__() function is used to assign values for name and empid\n",
    "        self.name = name\n",
    "        self.empid = empid\n",
    "    def greet(self): # Class Method\n",
    "        print(\"Thanks for joining ABC Company {}!!\".format(self.name))\n",
    "        \n",
    "emp1 = Employee(\"Asif\", 34163) # Create an employee object\n",
    "print('Name :- ',emp1.name)\n",
    "print('Employee ID :- ',emp1.empid)\n",
    "emp1.greet()"
   ]
  },
  {
   "cell_type": "code",
   "execution_count": 62,
   "metadata": {},
   "outputs": [
    {
     "data": {
      "text/plain": [
       "'Basit'"
      ]
     },
     "execution_count": 62,
     "metadata": {},
     "output_type": "execute_result"
    }
   ],
   "source": [
    "emp1.name = 'Basit' # Modify Object Properties\n",
    "emp1.name"
   ]
  },
  {
   "cell_type": "markdown",
   "metadata": {},
   "source": [
    "### Inheritance\n",
    "- Inheritance is a powerful feature in object oriented programming.\n",
    "- Inheritance provides code reusability in the program because we can use an existing class (Super Class/ Parent Class / Base Class) to create a new class (Sub Class / Child Class / Derived Class) instead of creating it from scratch.\n",
    "- The child class inherits data definitions and methods from the parent class which facilitates the reuse of features already available. The child class can add few more definitions or redefine a base class method.\n",
    "- Inheritance comes into picture when a new class possesses the 'IS A' relationship with an existing class. E.g Student is a person. Hence person is the base class and student is derived class."
   ]
  },
  {
   "cell_type": "code",
   "execution_count": 64,
   "metadata": {},
   "outputs": [
    {
     "name": "stdout",
     "output_type": "stream",
     "text": [
      "Student Details\n",
      "---------------\n",
      "Name :- Asif\n",
      "Age :- 24\n",
      "Gender :- Male\n",
      "Student ID :- 123\n",
      "Fees :- 1200\n",
      "\n",
      "Employee Details\n",
      "---------------\n",
      "Name :- Basit\n",
      "Age :- 36\n",
      "Gender :- Male\n",
      "Employee ID :- 456\n",
      "Salary :- 80000\n"
     ]
    }
   ],
   "source": [
    "class person: # Parent Class\n",
    "    def __init__(self, name , age , gender):\n",
    "        self.name = name\n",
    "        self.age = age\n",
    "        self.gender = gender\n",
    "    def PersonInfo(self):\n",
    "        print('Name :- {}'.format(self.name))\n",
    "        print('Age :- {}'.format(self.age))\n",
    "        print('Gender :- {}'.format(self.gender))\n",
    "\n",
    "class student(person): # Child Class\n",
    "    def __init__(self,name,age,gender,studentid,fees):\n",
    "        person.__init__(self,name,age,gender)\n",
    "        self.studentid = studentid\n",
    "        self.fees = fees\n",
    "    \n",
    "    def StudentInfo(self):\n",
    "        print('Student ID :- {}'.format(self.studentid))\n",
    "        print('Fees :- {}'.format(self.fees))\n",
    "\n",
    "\n",
    "class teacher(person): # Child Class\n",
    "    def __init__(self,name,age,gender,empid,salary):\n",
    "        person.__init__(self,name,age,gender)\n",
    "        self.empid = empid\n",
    "        self.salary = salary\n",
    "    def TeacherInfo(self):\n",
    "        print('Employee ID :- {}'.format(self.empid))\n",
    "        print('Salary :- {}'.format(self.salary))\n",
    "\n",
    "stud1 = student('Asif' , 24 , 'Male' , 123 , 1200)\n",
    "print('Student Details')\n",
    "print('---------------')\n",
    "stud1.PersonInfo() # PersonInfo() method presnt in Parent Class will be accessible by child class\n",
    "stud1.StudentInfo()\n",
    "print()\n",
    "teacher1 = teacher('Basit' , 36 , 'Male' , 456 , 80000)\n",
    "print('Employee Details')\n",
    "print('---------------')\n",
    "teacher1.PersonInfo() # PersonInfo() method presnt in Parent Class will be accessible by child class\n",
    "teacher1.TeacherInfo()"
   ]
  },
  {
   "cell_type": "code",
   "execution_count": 65,
   "metadata": {},
   "outputs": [
    {
     "name": "stdout",
     "output_type": "stream",
     "text": [
      "Name :- Asif\n",
      "Age :- 24\n",
      "Gender :- Male\n",
      "Student ID :- 123\n",
      "Fees :- 1200\n"
     ]
    }
   ],
   "source": [
    "# super() builtin function allows us to access methods of the base class.\n",
    "class person: # Parent Class\n",
    "    def __init__(self, name , age , gender):\n",
    "        self.name = name\n",
    "        self.age = age\n",
    "        self.gender = gender\n",
    "    def PersonInfo(self):\n",
    "        print('Name :- {}'.format(self.name))\n",
    "        print('Age :- {}'.format(self.age))\n",
    "        print('Gender :- {}'.format(self.gender))\n",
    "\n",
    "class student(person): # Child Class\n",
    "    def __init__(self,name,age,gender,studentid,fees):\n",
    "        super().__init__(name,age,gender)\n",
    "        self.studentid = studentid\n",
    "        self.fees = fees\n",
    "    def StudentInfo(self):\n",
    "        super().PersonInfo()\n",
    "        print('Student ID :- {}'.format(self.studentid))\n",
    "        print('Fees :- {}'.format(self.fees))\n",
    "\n",
    "stud = student('Asif' , 24 , 'Male' , 123 , 1200)\n",
    "stud.StudentInfo()"
   ]
  },
  {
   "cell_type": "markdown",
   "metadata": {},
   "source": [
    "### Multi-level Inheritance\n",
    "- In this type of inheritance, a class can inherit from a child class or derived class.\n",
    "- Multilevel Inheritance can be of any depth in python"
   ]
  },
  {
   "cell_type": "code",
   "execution_count": 67,
   "metadata": {},
   "outputs": [
    {
     "name": "stdout",
     "output_type": "stream",
     "text": [
      "Name :- Basit\n",
      "Age :- 36\n",
      "Gender :- Male\n",
      "Employee ID :- 456\n",
      "Salary :- 80000\n",
      "Contract Expiry :- 21-12-2021\n",
      "Contractual Employee Details\n",
      "****************************\n",
      "\n",
      "Fulltime Employee Details\n",
      "****************************\n",
      "Name :- Asif\n",
      "Age :- 22\n",
      "Gender :- Male\n",
      "Employee ID :- 567\n",
      "Salary :- 70000\n",
      "Work Experience :- 12\n"
     ]
    }
   ],
   "source": [
    "class person: # Parent Class\n",
    "    def __init__(self, name , age , gender):\n",
    "        self.name = name\n",
    "        self.age = age\n",
    "        self.gender = gender\n",
    "    def PersonInfo(self):\n",
    "        print('Name :- {}'.format(self.name))\n",
    "        print('Age :- {}'.format(self.age))\n",
    "        print('Gender :- {}'.format(self.gender))\n",
    "\n",
    "class employee(person): # Child Class\n",
    "    def __init__(self,name,age,gender,empid,salary):\n",
    "        person.__init__(self,name,age,gender)\n",
    "        self.empid = empid\n",
    "        self.salary = salary\n",
    "    def employeeInfo(self):\n",
    "        print('Employee ID :- {}'.format(self.empid))\n",
    "        print('Salary :- {}'.format(self.salary))\n",
    "\n",
    "class fulltime(employee): # Grand Child Class\n",
    "    def __init__(self,name,age,gender,empid,salary,WorkExperience):\n",
    "        employee.__init__(self,name,age,gender,empid,salary)\n",
    "        self.WorkExperience = WorkExperience\n",
    "    def FulltimeInfo(self):\n",
    "        print('Work Experience :- {}'.format(self.WorkExperience))\n",
    "\n",
    "class contractual(employee): # Grand Child Class\n",
    "    def __init__(self,name,age,gender,empid,salary,ContractExpiry):\n",
    "        employee.__init__(self,name,age,gender,empid,salary)\n",
    "        self.ContractExpiry = ContractExpiry\n",
    "    def ContractInfo(self):\n",
    "        print('Contract Expiry :- {}'.format(self.ContractExpiry))\n",
    "        print('Contractual Employee Details')\n",
    "        print('****************************')\n",
    "\n",
    "contract1 = contractual('Basit' , 36 , 'Male' , 456 , 80000,'21-12-2021')\n",
    "contract1.PersonInfo()\n",
    "contract1.employeeInfo()\n",
    "contract1.ContractInfo()\n",
    "print()\n",
    "print('Fulltime Employee Details')\n",
    "print('****************************')\n",
    "fulltim1= fulltime('Asif' , 22 , 'Male' , 567 , 70000, 12)\n",
    "fulltim1.PersonInfo()\n",
    "fulltim1.employeeInfo()\n",
    "fulltim1.FulltimeInfo()"
   ]
  },
  {
   "cell_type": "markdown",
   "metadata": {},
   "source": [
    "### Multiple Inheritance\n",
    "- Multiple inheritance is a feature in which a class (derived class) can inherit attributes and methods from more than one parent class.\n",
    "- The derived class inherits all the features of the base case."
   ]
  },
  {
   "cell_type": "code",
   "execution_count": null,
   "metadata": {},
   "outputs": [],
   "source": [
    "# Super Class\n",
    "class Father:\n",
    "    def __init__(self):\n",
    "        self.fathername = str()\n",
    "\n",
    "# Super Class\n",
    "class Mother:\n",
    "    def __init__(self):\n",
    "        self.mothername = str()\n",
    "\n",
    "# Sub Class\n",
    "class Son(Father, Mother):\n",
    "    name = str()\n",
    "    def show(self):\n",
    "        print('My Name :- ',self.name)\n",
    "        print(\"Father :\", self.fathername)\n",
    "        print(\"Mother :\", self.mothername)\n",
    "        \n",
    "s1 = Son()\n",
    "s1.name = 'Bill'\n",
    "s1.fathername = \"John\"\n",
    "s1.mothername = \"Kristen\"\n",
    "s1.show()"
   ]
  },
  {
   "cell_type": "code",
   "execution_count": null,
   "metadata": {},
   "outputs": [],
   "source": []
  },
  {
   "cell_type": "code",
   "execution_count": null,
   "metadata": {},
   "outputs": [],
   "source": []
  },
  {
   "cell_type": "code",
   "execution_count": null,
   "metadata": {},
   "outputs": [],
   "source": []
  },
  {
   "cell_type": "code",
   "execution_count": null,
   "metadata": {},
   "outputs": [],
   "source": []
  },
  {
   "cell_type": "code",
   "execution_count": null,
   "metadata": {},
   "outputs": [],
   "source": []
  },
  {
   "cell_type": "code",
   "execution_count": null,
   "metadata": {},
   "outputs": [],
   "source": []
  }
 ],
 "metadata": {
  "kernelspec": {
   "display_name": "Python 3",
   "language": "python",
   "name": "python3"
  },
  "language_info": {
   "codemirror_mode": {
    "name": "ipython",
    "version": 3
   },
   "file_extension": ".py",
   "mimetype": "text/x-python",
   "name": "python",
   "nbconvert_exporter": "python",
   "pygments_lexer": "ipython3",
   "version": "3.11.3"
  }
 },
 "nbformat": 4,
 "nbformat_minor": 2
}
